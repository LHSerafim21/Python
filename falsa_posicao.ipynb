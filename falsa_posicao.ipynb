{
 "cells": [
  {
   "cell_type": "code",
   "execution_count": 1,
   "metadata": {},
   "outputs": [],
   "source": [
    "import numpy as np\n",
    "\n",
    "def false_position(a, b, tol):\n",
    "    # Encontra a raiz da função f entre a e b com tolerância tol\n",
    "    if f(a) * f(b) >= 0:\n",
    "        print(\"Não é possível aplicar o método da falsa posição nesse intervalo.\")\n",
    "        return None\n",
    "\n",
    "    while abs(b-a) > tol:\n",
    "        # Encontra a aproximação da raiz\n",
    "        c = (a*f(b) - b*f(a)) / (f(b) - f(a))\n",
    "\n",
    "        # Checa se c é uma nova aproximação melhor para a raiz\n",
    "        if f(c) == 0:\n",
    "            return c\n",
    "        elif f(c)*f(a) < 0:\n",
    "            b = c\n",
    "        else:\n",
    "            a = c\n",
    "\n",
    "    return (a + b) / 2"
   ]
  }
 ],
 "metadata": {
  "kernelspec": {
   "display_name": "Python 3",
   "language": "python",
   "name": "python3"
  },
  "language_info": {
   "codemirror_mode": {
    "name": "ipython",
    "version": 3
   },
   "file_extension": ".py",
   "mimetype": "text/x-python",
   "name": "python",
   "nbconvert_exporter": "python",
   "pygments_lexer": "ipython3",
   "version": "3.11.2"
  },
  "orig_nbformat": 4,
  "vscode": {
   "interpreter": {
    "hash": "f94fc946f6cbe1cb8da34a21c4673a0f626949b836262f989ae9357dd4d8d8b7"
   }
  }
 },
 "nbformat": 4,
 "nbformat_minor": 2
}
