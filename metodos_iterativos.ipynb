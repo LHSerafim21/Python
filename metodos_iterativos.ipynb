{
 "cells": [
  {
   "cell_type": "code",
   "execution_count": 24,
   "metadata": {},
   "outputs": [],
   "source": [
    "import numpy as np\n",
    "from numpy import linalg as la"
   ]
  },
  {
   "cell_type": "code",
   "execution_count": 25,
   "metadata": {},
   "outputs": [
    {
     "data": {
      "text/plain": [
       "array([[0.42586196, 0.55206191, 0.01299301, 0.30975235, 0.75254807],\n",
       "       [0.75099292, 0.43363015, 0.32775393, 0.56406647, 0.24423937],\n",
       "       [0.30459351, 0.47395473, 0.86433559, 0.6077705 , 0.3154188 ],\n",
       "       [0.76705991, 0.7757902 , 0.55970279, 0.23522036, 0.95428724],\n",
       "       [0.1153204 , 0.1714628 , 0.7721471 , 0.02231069, 0.03868811]])"
      ]
     },
     "execution_count": 25,
     "metadata": {},
     "output_type": "execute_result"
    }
   ],
   "source": [
    "A = np.random.rand(5,5)\n",
    "A"
   ]
  },
  {
   "cell_type": "code",
   "execution_count": 26,
   "metadata": {},
   "outputs": [
    {
     "name": "stdout",
     "output_type": "stream",
     "text": [
      "[[0.42586196 0.55206191 0.01299301 0.30975235 0.75254807]\n",
      " [0.75099292 0.43363015 0.32775393 0.56406647 0.24423937]\n",
      " [0.30459351 0.47395473 0.86433559 0.6077705  0.3154188 ]\n",
      " [0.76705991 0.7757902  0.55970279 0.23522036 0.95428724]\n",
      " [0.1153204  0.1714628  0.7721471  0.02231069 0.03868811]]\n"
     ]
    }
   ],
   "source": [
    "D = np.diag(np.diag(A))\n",
    "L = np.tril(A,-1)\n",
    "R = np.triu(A,1)\n",
    "print(L+D+R)"
   ]
  },
  {
   "cell_type": "code",
   "execution_count": 27,
   "metadata": {},
   "outputs": [],
   "source": [
    "def jacobi(A,b,x0 = None, maxIt = 50, tol=1e-4):\n",
    "    if x0 is None:\n",
    "        x0 = np.ones_like(b)\n",
    "    D = np.diag(np.diag(A))\n",
    "    L = np.tril(A,-1)\n",
    "    R = np.triu(A,1)\n",
    "    n = A.shape[0]\n",
    "    # for i in range(n):\n",
    "    #     D[i,i] = 1/D[i,i]\n",
    "\n",
    "    invD = la.inv(D)\n",
    "    B = -invD @ (L+R) # -D^-1(L+R)\n",
    "    g = invD @ b # D^-1 b\n",
    "\n",
    "    for it in range(maxIt):\n",
    "        x = B@x0 + g\n",
    "\n",
    "        err = np.linalg.norm(x - x0)/ np.linalg.norm(x)\n",
    "        if err < tol:\n",
    "            return x, it\n",
    "        \n",
    "        x0 = x\n",
    "\n",
    "    print('Maximo de iteração atingido')\n",
    "    return x,maxIt\n",
    "    "
   ]
  },
  {
   "cell_type": "code",
   "execution_count": 28,
   "metadata": {},
   "outputs": [],
   "source": [
    "def gauss_seidel(A, b, x0=None, maxIt=50, tol=1e-4):\n",
    "    if x0 is None:\n",
    "        x0 = np.ones_like(b)\n",
    "    L = np.tril(A, -1)\n",
    "    U = np.triu(A, 1)\n",
    "    D = np.diag(np.diag(A))\n",
    "    n = A.shape[0]\n",
    "    invD_L = la.inv(D + L)\n",
    "    B = -invD_L @ U\n",
    "    g = invD_L @ b\n",
    "\n",
    "    for it in range(maxIt):\n",
    "        x = B @ x0 + g\n",
    "\n",
    "        err = la.norm(x - x0) / la.norm(x)\n",
    "        if err < tol:\n",
    "            return x, it\n",
    "\n",
    "        x0 = x\n",
    "\n",
    "    print('Máximo de iterações atingido.')\n",
    "    return x, maxIt"
   ]
  },
  {
   "cell_type": "code",
   "execution_count": 30,
   "metadata": {},
   "outputs": [
    {
     "name": "stdout",
     "output_type": "stream",
     "text": [
      "Solução encontrada [[ 1.]\n",
      " [ 1.]\n",
      " [-1.]], em 11 iterações\n"
     ]
    }
   ],
   "source": [
    "A = np.array([\n",
    "[5, 1, 1], [3, 4, 1], [3, 3, 6]\n",
    "]\n",
    ")\n",
    "\n",
    "b = np.zeros((3,1), dtype=float)\n",
    "b[0] = 5\n",
    "b[1] = 6\n",
    "b[2] = 0\n",
    "\n",
    "x,it = gauss_seidel(A,b, tol=1e-8)\n",
    "print(f'Solução encontrada {x}, em {it} iterações')"
   ]
  }
 ],
 "metadata": {
  "kernelspec": {
   "display_name": "Python 3",
   "language": "python",
   "name": "python3"
  },
  "language_info": {
   "codemirror_mode": {
    "name": "ipython",
    "version": 3
   },
   "file_extension": ".py",
   "mimetype": "text/x-python",
   "name": "python",
   "nbconvert_exporter": "python",
   "pygments_lexer": "ipython3",
   "version": "3.11.2"
  },
  "orig_nbformat": 4
 },
 "nbformat": 4,
 "nbformat_minor": 2
}
