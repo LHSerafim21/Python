{
 "cells": [
  {
   "cell_type": "code",
   "execution_count": 1,
   "metadata": {},
   "outputs": [],
   "source": [
    "import numpy as np # funções matemáticas\n",
    "import matplotlib.pyplot as plt # plot dos gráficos (visualização)"
   ]
  },
  {
   "cell_type": "code",
   "execution_count": 2,
   "metadata": {},
   "outputs": [],
   "source": [
    "def bissec(f, a, b, tol = 1e-4, maxIt = 50):\n",
    "\n",
    "    # Verificar condição de existencia de raiz no intervalo\n",
    "    if f(a)*f(b) > 0:\n",
    "        print(\"O intervalo dado é inválido\")\n",
    "        return None, 0 # retorna nenhuma raiz\n",
    "    \n",
    "        # alternativamente, podemos lançar uma exceção\n",
    "        # raise ValueError(f\"O intervalo [{a}, {b}] é inválido para essa função\")\n",
    "\n",
    "    # Verifica se os extremos do intervalo são raízes\n",
    "    if np.abs(f(a)) < tol:\n",
    "        return a,0\n",
    "    if np.abs(f(b)) < tol:\n",
    "        return b,0\n",
    "    \n",
    "    for it in range(maxIt): # for(int it = 0; it < maxIt; it++)\n",
    "\n",
    "        x = (a+b)/2 # Realiza a iteração (calcula o ponto médio)\n",
    "\n",
    "        # Verifica se resultado é próximo suficiente da raiz\n",
    "        if np.abs(f(x)) < tol:\n",
    "            return x, it+1\n",
    "        \n",
    "        # Determina novo intervalo\n",
    "        if f(x)*f(a) < 0:\n",
    "            b = x # intervalo [a,x]\n",
    "        else:\n",
    "            a = x # intervalo [x,b]\n",
    "\n",
    "    # Caso não haja convergência no limite de iterações definido:\n",
    "    print('Numero max de iterações foi atingido')\n",
    "    return x, maxIt"
   ]
  },
  {
   "cell_type": "code",
   "execution_count": 3,
   "metadata": {},
   "outputs": [],
   "source": [
    "# Definição da função não-linear e sua derivada\n",
    "def f(x):\n",
    "    return x**3 - x**2 + x - 1.5\n",
    "\n",
    "def df(x):\n",
    "    return 3*x**2 - 2*x + 1"
   ]
  },
  {
   "cell_type": "code",
   "execution_count": 4,
   "metadata": {},
   "outputs": [
    {
     "data": {
      "text/plain": [
       "<matplotlib.collections.LineCollection at 0x1e7fb239150>"
      ]
     },
     "execution_count": 4,
     "metadata": {},
     "output_type": "execute_result"
    },
    {
     "data": {
      "image/png": "[encoded data removed]",
      "text/plain": [
       "<Figure size 640x480 with 1 Axes>"
      ]
     },
     "metadata": {},
     "output_type": "display_data"
    }
   ],
   "source": [
    "# Podemos utilziar representações gráficas da função para determinar um intervalo de busca\n",
    "\n",
    "# intervalo de visualização\n",
    "a = -2\n",
    "b = 2\n",
    "\n",
    "#plota intervalo par visualização\n",
    "pts = np.linspace(a, b, 100)\n",
    "plt.plot(pts, f(pts))\n",
    "plt.hlines(0,a,b,'k')"
   ]
  },
  {
   "cell_type": "code",
   "execution_count": 5,
   "metadata": {},
   "outputs": [
    {
     "name": "stdout",
     "output_type": "stream",
     "text": [
      "A solução aproximada encontrada foi x = 1.2041015625;\n",
      "Valor f(x) = 2.037081867456436e-05;\n",
      "Foram necessárias 12 iterações\n"
     ]
    }
   ],
   "source": [
    "# Execução do algorítimo\n",
    "x, it = bissec(f, a, b)\n",
    "print(f'A solução aproximada encontrada foi x = {x};\\nValor f(x) = {f(x)};\\nForam necessárias {it} iterações')"
   ]
  },
  {
   "cell_type": "code",
   "execution_count": 6,
   "metadata": {},
   "outputs": [],
   "source": [
    "def newton(f,df, x, tol = 1e-4, maxIt=50):\n",
    "    for it in range(maxIt):\n",
    "        if np.abs(f(x)) < tol:\n",
    "            return x, it\n",
    "        if df(x) == 0:\n",
    "            print(\"Erro: df(x) = 0\")\n",
    "            return x, it\n",
    "            # Alternativamente:\n",
    "            # raise ValueError(f\"A derivada em x = {x} é 0\")\n",
    "        x = x - f(x)/df(x)\n",
    "    print('Numero max de iterações foi atingido')\n",
    "    return x, maxIt\n",
    "    "
   ]
  },
  {
   "cell_type": "code",
   "execution_count": 7,
   "metadata": {},
   "outputs": [
    {
     "name": "stdout",
     "output_type": "stream",
     "text": [
      "A solução aproximada encontrada foi x = 1.2040946589829138;\n",
      "Valor f(x) = 6.508579586395058e-08;\n",
      "Foram necessárias 8 iterações com chute inicial x0 = -2\n"
     ]
    }
   ],
   "source": [
    "# Execução do algorítimo\n",
    "x0 = a\n",
    "x, it = newton(f, df, x0)\n",
    "print(f'A solução aproximada encontrada foi x = {x};')\n",
    "print(f'Valor f(x) = {f(x)};')\n",
    "print(f'Foram necessárias {it} iterações com chute inicial x0 = {x0}')"
   ]
  }
 ],
 "metadata": {
  "kernelspec": {
   "display_name": "base",
   "language": "python",
   "name": "python3"
  },
  "language_info": {
   "codemirror_mode": {
    "name": "ipython",
    "version": 3
   },
   "file_extension": ".py",
   "mimetype": "text/x-python",
   "name": "python",
   "nbconvert_exporter": "python",
   "pygments_lexer": "ipython3",
   "version": "3.11.2"
  },
  "orig_nbformat": 4
 },
 "nbformat": 4,
 "nbformat_minor": 2
}
