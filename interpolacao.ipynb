{
 "cells": [
  {
   "cell_type": "code",
   "execution_count": 2,
   "metadata": {},
   "outputs": [],
   "source": [
    "import numpy as np"
   ]
  },
  {
   "attachments": {},
   "cell_type": "markdown",
   "metadata": {},
   "source": [
    "## Polinômios em numpy\n",
    "\n",
    "- Os polinômios são definidos atraves de um vetor de coeficientes.\n",
    "- O tamanho do vetor determina o grau do polinomio\n",
    "    - Um vetor de tamanho n+1 representa um polinômio de grau n\n",
    "    - Exemplo: [3,-2,7] tem tamanho 3, logo representa um polin^mio de grau 2\n",
    "- Cada elemento representa o coeficiente do polinômio, indo de maior para menor grau\n",
    "    - Exemplo: [3,-2,7] representa $x^2 - 2x + 7$"
   ]
  },
  {
   "cell_type": "code",
   "execution_count": 3,
   "metadata": {},
   "outputs": [
    {
     "name": "stdout",
     "output_type": "stream",
     "text": [
      "15\n",
      "[ 8 15 28 47]\n"
     ]
    }
   ],
   "source": [
    "c = [3,-2,7]\n",
    "\n",
    "# Calcular o valor do polinômio em um ponto:\n",
    "y = np.polyval(c,2) # P(2)\n",
    "print(y)\n",
    "\n",
    "# Calcular o valor do polinômio em vários pontos:\n",
    "x = [1,2,3,4]\n",
    "y = np.polyval(c,x) # P(2)\n",
    "print(y)"
   ]
  },
  {
   "cell_type": "code",
   "execution_count": 4,
   "metadata": {},
   "outputs": [],
   "source": [
    "# Criando a matriz de vandermond\n",
    "\n",
    "x = np.array([-1,0,3])\n",
    "y = np.array([15,8,-1])\n",
    "\n",
    "n = x.shape[0]\n",
    "A = np.ones((n,n)) #inicializa matriz\n",
    "\n",
    "for i in range(1,n):\n",
    "    A[:,i] = x**i # maneira ineficiente: calcula potências\n",
    "    A[:,i] = A[:,i-1]*x # maneira eficiente: reutiliza os cálculos da iteração anterior\n"
   ]
  },
  {
   "cell_type": "code",
   "execution_count": 5,
   "metadata": {},
   "outputs": [
    {
     "name": "stdout",
     "output_type": "stream",
     "text": [
      "coeficientes:\t [ 1. -6.  8.]\n",
      "interpol.:\t [15.  8. -1.]\n",
      "y:\t\t [15  8 -1]\n"
     ]
    }
   ],
   "source": [
    "# Calculando os coeficientes do polinômio interpolador:\n",
    "\n",
    "# Sistema Ac = y\n",
    "c = np.linalg.solve(A,y)\n",
    "\n",
    "# neste caso, o vetor está invertido, ou seja, os coeficientes estão do menor pro maior grau\n",
    "\n",
    "#inverte o vetor:\n",
    "\n",
    "c = np.flip(c)\n",
    "\n",
    "print('coeficientes:\\t',c)\n",
    "print('interpol.:\\t',np.polyval(c,x))\n",
    "print('y:\\t\\t',y)"
   ]
  },
  {
   "cell_type": "code",
   "execution_count": 6,
   "metadata": {},
   "outputs": [
    {
     "name": "stdout",
     "output_type": "stream",
     "text": [
      "[  3  -1 -10]\n"
     ]
    }
   ],
   "source": [
    "#Multiplicação de polinomios:\n",
    "p1 = [1, -2] # x -2\n",
    "p2 = [3, 5] # 3x +5\n",
    "\n",
    "p3 = np.polymul(p1,p2) # p1 * p2 = (x-2)(3x+5) = 3x**2 -x -10\n",
    "print(p3)"
   ]
  },
  {
   "cell_type": "code",
   "execution_count": 7,
   "metadata": {},
   "outputs": [
    {
     "name": "stdout",
     "output_type": "stream",
     "text": [
      "[ 1. -6.  8.]\n"
     ]
    }
   ],
   "source": [
    "#Polinômios de lagrange:\n",
    "\n",
    "L0 = [1.] # Polinômio neutro/ unitário\n",
    "d0 = 1. # ponto para trabalhar com ponto flutuante e não inteiros\n",
    "for k in range(n):\n",
    "    if k == 0:\n",
    "        continue\n",
    "    L0 = np.polymul(L0, [1, -x[k]])\n",
    "    d0 *= x[0] - x[k]\n",
    "L0 /= d0\n",
    "\n",
    "L1 = [1.] # Polinômio neutro/ unitário\n",
    "d1 = 1.\n",
    "for k in range(n):\n",
    "    if k == 1:\n",
    "        continue\n",
    "    L1 = np.polymul(L1, [1, -x[k]])\n",
    "    d1 *= x[1] - x[k]\n",
    "L1 /= d1\n",
    "\n",
    "L2 = [1.] # Polinômio neutro/ unitário\n",
    "d2 = 1.\n",
    "for k in range(n):\n",
    "    if k == 2:\n",
    "        continue\n",
    "    L2 = np.polymul(L2, [1, -x[k]])\n",
    "    d2 *= x[2] - x[k]\n",
    "L2 /= d2\n",
    "\n",
    "pol_lag = y[0]*L0 + y[1]*L1 +  y[2]*L2\n",
    "\n",
    "print(pol_lag)"
   ]
  }
 ],
 "metadata": {
  "kernelspec": {
   "display_name": "Python 3",
   "language": "python",
   "name": "python3"
  },
  "language_info": {
   "codemirror_mode": {
    "name": "ipython",
    "version": 3
   },
   "file_extension": ".py",
   "mimetype": "text/x-python",
   "name": "python",
   "nbconvert_exporter": "python",
   "pygments_lexer": "ipython3",
   "version": "3.11.2"
  },
  "orig_nbformat": 4
 },
 "nbformat": 4,
 "nbformat_minor": 2
}
