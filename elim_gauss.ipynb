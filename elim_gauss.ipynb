{
 "cells": [
  {
   "cell_type": "code",
   "execution_count": null,
   "metadata": {},
   "outputs": [],
   "source": [
    "import numpy as np\n",
    "\n",
    "def eliminacao_gaussiana(A, b):\n",
    "    n = len(A)\n",
    "    # Iteração por cada linha\n",
    "    for i in range(n):\n",
    "        # Pivotamento parcial\n",
    "        max_index = abs(A[i:, i]).argmax() + i\n",
    "        if A[max_index, i] == 0:\n",
    "            raise ValueError(\"Matriz singular.\")\n",
    "        A[[i, max_index]] = A[[max_index, i]]\n",
    "        b[[i, max_index]] = b[[max_index, i]]\n",
    "        \n",
    "        # Eliminação gaussiana\n",
    "        for j in range(i + 1, n):\n",
    "            c = A[j, i] / A[i, i]\n",
    "            A[j, i:] = A[j, i:] - c * A[i, i:]\n",
    "            b[j] = b[j] - c * b[i]\n",
    "            \n",
    "    # Resolução do sistema triangular superior\n",
    "    x = np.zeros(n)\n",
    "    for i in range(n - 1, -1, -1):\n",
    "        x[i] = (b[i] - np.dot(A[i, i + 1:], x[i + 1:])) / A[i, i]\n",
    "        \n",
    "    return x\n"
   ]
  }
 ],
 "metadata": {
  "kernelspec": {
   "display_name": "Python 3",
   "language": "python",
   "name": "python3"
  },
  "language_info": {
   "codemirror_mode": {
    "name": "ipython",
    "version": 3
   },
   "file_extension": ".py",
   "mimetype": "text/x-python",
   "name": "python",
   "nbconvert_exporter": "python",
   "pygments_lexer": "ipython3",
   "version": "3.11.2"
  },
  "orig_nbformat": 4,
  "vscode": {
   "interpreter": {
    "hash": "f94fc946f6cbe1cb8da34a21c4673a0f626949b836262f989ae9357dd4d8d8b7"
   }
  }
 },
 "nbformat": 4,
 "nbformat_minor": 2
}
