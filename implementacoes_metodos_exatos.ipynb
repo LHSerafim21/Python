{
 "cells": [
  {
   "cell_type": "code",
   "execution_count": 1,
   "metadata": {},
   "outputs": [],
   "source": [
    "import numpy as np # operações matriciais\n",
    "from scipy import linalg as la # alguns métodos de algebra linear para comparação"
   ]
  },
  {
   "cell_type": "code",
   "execution_count": 2,
   "metadata": {},
   "outputs": [],
   "source": [
    "def solve_upper(U,b):\n",
    "    n = len(b)\n",
    "    x = np.zeros(n)\n",
    "    for i in range(n-1,-1,-1): # começa da última linha em direção à primeira\n",
    "        s = np.dot(U[i,i+1:],x[i+1:]) # calcula a soma dos elementos da linha atual\n",
    "        x[i] = (b[i]-s)/U[i,i] # calcula o valor de x para a linha atual\n",
    "    return x"
   ]
  },
  {
   "cell_type": "code",
   "execution_count": 3,
   "metadata": {},
   "outputs": [],
   "source": [
    "def solve_lower(L,b):\n",
    "    n = len(b)\n",
    "    x = np.zeros(n)\n",
    "    for i in range(n): # começa da primeira linha em direção à última\n",
    "        s = np.dot(L[i,:i],x[:i]) # calcula a soma dos elementos da linha atual\n",
    "        x[i] = (b[i]-s)/L[i,i] # calcula o valor de x para a linha atual\n",
    "    return x"
   ]
  },
  {
   "cell_type": "code",
   "execution_count": 4,
   "metadata": {},
   "outputs": [],
   "source": [
    "def LU(A):\n",
    "    n = len(A)\n",
    "    L = np.eye(n)\n",
    "    U = np.zeros((n, n))\n",
    "    \n",
    "    for i in range(n):\n",
    "        # Calcula os elementos da linha i da matriz U\n",
    "        for j in range(i, n):\n",
    "            U[i, j] = A[i, j] - np.dot(L[i, :], U[:, j])\n",
    "        \n",
    "        # Calcula os elementos da coluna i da matriz L\n",
    "        for j in range(i+1, n):\n",
    "            L[j, i] = (A[j, i] - np.dot(L[j, :], U[:, i])) / U[i, i]\n",
    "        \n",
    "    \n",
    "    # Retorna as matrizes L e U\n",
    "    return L, U\n"
   ]
  },
  {
   "cell_type": "code",
   "execution_count": 5,
   "metadata": {},
   "outputs": [],
   "source": [
    "def solve_LU(A,b):\n",
    "    L,U = LU(A)\n",
    "    # Ax = LU x = b\n",
    "    # Ux = y\n",
    "    y = solve_lower(L,b) # Ly = b\n",
    "    x = solve_upper(U,y) # Ux = y\n",
    "    return x"
   ]
  },
  {
   "cell_type": "code",
   "execution_count": 6,
   "metadata": {},
   "outputs": [
    {
     "name": "stdout",
     "output_type": "stream",
     "text": [
      "[-4.4408921e-16  1.0000000e+00 -2.0000000e+00]\n",
      "[ 0. -7. -5.]\n"
     ]
    }
   ],
   "source": [
    "# Exemplo de utilização para solução de sistema linear\n",
    "\n",
    "A = np.array(\n",
    "    [\n",
    "    [5,2,1],\n",
    "    [3,1,4],\n",
    "    [1,1,3]\n",
    "    ]\n",
    ")\n",
    "b = np.zeros((3,1))\n",
    "b[0] = 0\n",
    "b[1] = -7\n",
    "b[2] = -5\n",
    "\n",
    "\n",
    "x = solve_LU(A,b)\n",
    "print(x)\n",
    "print(A@x)"
   ]
  },
  {
   "cell_type": "code",
   "execution_count": 7,
   "metadata": {},
   "outputs": [
    {
     "name": "stdout",
     "output_type": "stream",
     "text": [
      "Número de condição de A 13.912163804268793\n",
      "\n",
      "Matriz mal consicionada:\n",
      "M =\n",
      " [[1.         0.5        0.33333333 0.25       0.2       ]\n",
      " [0.5        0.33333333 0.25       0.2        0.16666667]\n",
      " [0.33333333 0.25       0.2        0.16666667 0.14285714]\n",
      " [0.25       0.2        0.16666667 0.14285714 0.125     ]\n",
      " [0.2        0.16666667 0.14285714 0.125      0.11111111]]\n",
      "Número de condição de M:  476607.2502422687\n"
     ]
    }
   ],
   "source": [
    "# Verificar número de condição:\n",
    "c = np.linalg.cond(A)\n",
    "print(\"Número de condição de A\",c)\n",
    "\n",
    "# Exemplo de matriz mal condicionada\n",
    "M = la.hilbert(5)\n",
    "print()\n",
    "print('Matriz mal consicionada:')\n",
    "print('M =\\n',M)\n",
    "print('Número de condição de M: ',np.linalg.cond(M))"
   ]
  }
 ],
 "metadata": {
  "kernelspec": {
   "display_name": "Python 3",
   "language": "python",
   "name": "python3"
  },
  "language_info": {
   "codemirror_mode": {
    "name": "ipython",
    "version": 3
   },
   "file_extension": ".py",
   "mimetype": "text/x-python",
   "name": "python",
   "nbconvert_exporter": "python",
   "pygments_lexer": "ipython3",
   "version": "3.11.2"
  },
  "orig_nbformat": 4
 },
 "nbformat": 4,
 "nbformat_minor": 2
}
